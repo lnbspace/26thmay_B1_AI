{
 "cells": [
  {
   "cell_type": "code",
   "execution_count": 1,
   "metadata": {},
   "outputs": [],
   "source": [
    "import pandas as pd"
   ]
  },
  {
   "cell_type": "code",
   "execution_count": 2,
   "metadata": {},
   "outputs": [],
   "source": [
    "import matplotlib.pyplot as plt\n",
    "import warnings\n",
    "warnings.filterwarnings('ignore')"
   ]
  },
  {
   "cell_type": "code",
   "execution_count": 3,
   "metadata": {},
   "outputs": [
    {
     "data": {
      "text/html": [
       "<div>\n",
       "<style scoped>\n",
       "    .dataframe tbody tr th:only-of-type {\n",
       "        vertical-align: middle;\n",
       "    }\n",
       "\n",
       "    .dataframe tbody tr th {\n",
       "        vertical-align: top;\n",
       "    }\n",
       "\n",
       "    .dataframe thead th {\n",
       "        text-align: right;\n",
       "    }\n",
       "</style>\n",
       "<table border=\"1\" class=\"dataframe\">\n",
       "  <thead>\n",
       "    <tr style=\"text-align: right;\">\n",
       "      <th></th>\n",
       "      <th>YearsExperience</th>\n",
       "      <th>Salary</th>\n",
       "    </tr>\n",
       "  </thead>\n",
       "  <tbody>\n",
       "    <tr>\n",
       "      <th>0</th>\n",
       "      <td>1.1</td>\n",
       "      <td>39343.0</td>\n",
       "    </tr>\n",
       "    <tr>\n",
       "      <th>1</th>\n",
       "      <td>1.3</td>\n",
       "      <td>46205.0</td>\n",
       "    </tr>\n",
       "    <tr>\n",
       "      <th>2</th>\n",
       "      <td>1.5</td>\n",
       "      <td>37731.0</td>\n",
       "    </tr>\n",
       "    <tr>\n",
       "      <th>3</th>\n",
       "      <td>2.0</td>\n",
       "      <td>43525.0</td>\n",
       "    </tr>\n",
       "    <tr>\n",
       "      <th>4</th>\n",
       "      <td>2.2</td>\n",
       "      <td>39891.0</td>\n",
       "    </tr>\n",
       "  </tbody>\n",
       "</table>\n",
       "</div>"
      ],
      "text/plain": [
       "   YearsExperience   Salary\n",
       "0              1.1  39343.0\n",
       "1              1.3  46205.0\n",
       "2              1.5  37731.0\n",
       "3              2.0  43525.0\n",
       "4              2.2  39891.0"
      ]
     },
     "execution_count": 3,
     "metadata": {},
     "output_type": "execute_result"
    }
   ],
   "source": [
    "df = pd.read_csv('Salary_Data.csv')\n",
    "df.head()"
   ]
  },
  {
   "cell_type": "code",
   "execution_count": 10,
   "metadata": {},
   "outputs": [
    {
     "data": {
      "text/html": [
       "<div>\n",
       "<style scoped>\n",
       "    .dataframe tbody tr th:only-of-type {\n",
       "        vertical-align: middle;\n",
       "    }\n",
       "\n",
       "    .dataframe tbody tr th {\n",
       "        vertical-align: top;\n",
       "    }\n",
       "\n",
       "    .dataframe thead th {\n",
       "        text-align: right;\n",
       "    }\n",
       "</style>\n",
       "<table border=\"1\" class=\"dataframe\">\n",
       "  <thead>\n",
       "    <tr style=\"text-align: right;\">\n",
       "      <th></th>\n",
       "      <th>YearsExperience</th>\n",
       "      <th>Salary</th>\n",
       "    </tr>\n",
       "  </thead>\n",
       "  <tbody>\n",
       "    <tr>\n",
       "      <th>count</th>\n",
       "      <td>30.000000</td>\n",
       "      <td>30.000000</td>\n",
       "    </tr>\n",
       "    <tr>\n",
       "      <th>mean</th>\n",
       "      <td>5.313333</td>\n",
       "      <td>76003.000000</td>\n",
       "    </tr>\n",
       "    <tr>\n",
       "      <th>std</th>\n",
       "      <td>2.837888</td>\n",
       "      <td>27414.429785</td>\n",
       "    </tr>\n",
       "    <tr>\n",
       "      <th>min</th>\n",
       "      <td>1.100000</td>\n",
       "      <td>37731.000000</td>\n",
       "    </tr>\n",
       "    <tr>\n",
       "      <th>25%</th>\n",
       "      <td>3.200000</td>\n",
       "      <td>56720.750000</td>\n",
       "    </tr>\n",
       "    <tr>\n",
       "      <th>50%</th>\n",
       "      <td>4.700000</td>\n",
       "      <td>65237.000000</td>\n",
       "    </tr>\n",
       "    <tr>\n",
       "      <th>75%</th>\n",
       "      <td>7.700000</td>\n",
       "      <td>100544.750000</td>\n",
       "    </tr>\n",
       "    <tr>\n",
       "      <th>max</th>\n",
       "      <td>10.500000</td>\n",
       "      <td>122391.000000</td>\n",
       "    </tr>\n",
       "  </tbody>\n",
       "</table>\n",
       "</div>"
      ],
      "text/plain": [
       "       YearsExperience         Salary\n",
       "count        30.000000      30.000000\n",
       "mean          5.313333   76003.000000\n",
       "std           2.837888   27414.429785\n",
       "min           1.100000   37731.000000\n",
       "25%           3.200000   56720.750000\n",
       "50%           4.700000   65237.000000\n",
       "75%           7.700000  100544.750000\n",
       "max          10.500000  122391.000000"
      ]
     },
     "execution_count": 10,
     "metadata": {},
     "output_type": "execute_result"
    }
   ],
   "source": [
    "df.describe()"
   ]
  },
  {
   "cell_type": "code",
   "execution_count": 9,
   "metadata": {},
   "outputs": [
    {
     "name": "stdout",
     "output_type": "stream",
     "text": [
      "<class 'pandas.core.frame.DataFrame'>\n",
      "RangeIndex: 30 entries, 0 to 29\n",
      "Data columns (total 2 columns):\n",
      " #   Column           Non-Null Count  Dtype  \n",
      "---  ------           --------------  -----  \n",
      " 0   YearsExperience  30 non-null     float64\n",
      " 1   Salary           30 non-null     float64\n",
      "dtypes: float64(2)\n",
      "memory usage: 608.0 bytes\n"
     ]
    }
   ],
   "source": [
    "df.info()"
   ]
  },
  {
   "cell_type": "code",
   "execution_count": 4,
   "metadata": {},
   "outputs": [
    {
     "data": {
      "text/plain": [
       "Text(0, 0.5, 'Expe.')"
      ]
     },
     "execution_count": 4,
     "metadata": {},
     "output_type": "execute_result"
    },
    {
     "data": {
      "image/png": "[encoded data removed]",
      "text/plain": [
       "<Figure size 432x288 with 1 Axes>"
      ]
     },
     "metadata": {
      "needs_background": "light"
     },
     "output_type": "display_data"
    }
   ],
   "source": [
    "plt.scatter(df['Salary'],df['YearsExperience'])\n",
    "plt.grid()\n",
    "plt.xlabel('Salary')\n",
    "plt.ylabel('Expe.')"
   ]
  },
  {
   "cell_type": "code",
   "execution_count": 5,
   "metadata": {},
   "outputs": [],
   "source": [
    "import seaborn as sns"
   ]
  },
  {
   "cell_type": "code",
   "execution_count": 7,
   "metadata": {},
   "outputs": [
    {
     "data": {
      "image/png": "[encoded data removed]",
      "text/plain": [
       "<Figure size 432x288 with 1 Axes>"
      ]
     },
     "metadata": {
      "needs_background": "light"
     },
     "output_type": "display_data"
    }
   ],
   "source": [
    "sns.regplot(x='Salary',y='YearsExperience', data=df)\n",
    "plt.grid()"
   ]
  },
  {
   "cell_type": "code",
   "execution_count": 56,
   "metadata": {},
   "outputs": [],
   "source": [
    "from sklearn.model_selection import train_test_split\n",
    "xtrain, xtest, ytrain, ytest = train_test_split(df[['YearsExperience']], df['Salary'], test_size=0.25, random_state=101)"
   ]
  },
  {
   "cell_type": "code",
   "execution_count": 57,
   "metadata": {},
   "outputs": [],
   "source": [
    "from sklearn.linear_model import LinearRegression"
   ]
  },
  {
   "cell_type": "code",
   "execution_count": 58,
   "metadata": {},
   "outputs": [],
   "source": [
    "model = LinearRegression().fit(xtrain,ytrain)"
   ]
  },
  {
   "cell_type": "code",
   "execution_count": 59,
   "metadata": {},
   "outputs": [
    {
     "data": {
      "text/plain": [
       "98.20915410004406"
      ]
     },
     "execution_count": 59,
     "metadata": {},
     "output_type": "execute_result"
    }
   ],
   "source": [
    "100* model.score(xtest, ytest)"
   ]
  },
  {
   "cell_type": "code",
   "execution_count": 60,
   "metadata": {},
   "outputs": [],
   "source": [
    "ypred = model.predict(xtest)"
   ]
  },
  {
   "cell_type": "code",
   "execution_count": 61,
   "metadata": {},
   "outputs": [
    {
     "data": {
      "text/plain": [
       "<matplotlib.collections.PathCollection at 0x2e0d42be5b0>"
      ]
     },
     "execution_count": 61,
     "metadata": {},
     "output_type": "execute_result"
    },
    {
     "data": {
      "image/png": "[encoded data removed]",
      "text/plain": [
       "<Figure size 432x288 with 1 Axes>"
      ]
     },
     "metadata": {
      "needs_background": "light"
     },
     "output_type": "display_data"
    }
   ],
   "source": [
    "plt.scatter(ytest,ypred)"
   ]
  },
  {
   "cell_type": "code",
   "execution_count": null,
   "metadata": {},
   "outputs": [],
   "source": []
  },
  {
   "cell_type": "markdown",
   "metadata": {},
   "source": [
    "# Polynomial Regression"
   ]
  },
  {
   "cell_type": "code",
   "execution_count": 21,
   "metadata": {},
   "outputs": [],
   "source": [
    "import numpy as np"
   ]
  },
  {
   "cell_type": "code",
   "execution_count": 22,
   "metadata": {},
   "outputs": [],
   "source": [
    "np.random.seed(20)"
   ]
  },
  {
   "cell_type": "code",
   "execution_count": 23,
   "metadata": {},
   "outputs": [],
   "source": [
    "x = 6-7*np.random.normal(0,1,30)"
   ]
  },
  {
   "cell_type": "code",
   "execution_count": 24,
   "metadata": {},
   "outputs": [
    {
     "data": {
      "text/plain": [
       "array([-0.18725179,  4.62894485,  3.49724439, 22.40283334, 13.59382811,\n",
       "        2.08212597, -0.57628545, 12.84936729,  2.47832212,  3.15509872,\n",
       "        3.73577293,  9.45387617, 11.54411754, 11.89657554, 14.95651863,\n",
       "        4.27999381,  6.3093636 , -4.97342787, -1.35776076,  3.15542102,\n",
       "        7.18052271, 28.32791952, -1.84092581, -3.32944746,  7.70337136,\n",
       "        6.91021498,  6.7631216 , -4.89330507,  5.09855153, 20.46864106])"
      ]
     },
     "execution_count": 24,
     "metadata": {},
     "output_type": "execute_result"
    }
   ],
   "source": [
    "x"
   ]
  },
  {
   "cell_type": "code",
   "execution_count": 25,
   "metadata": {},
   "outputs": [
    {
     "data": {
      "text/plain": [
       "[<matplotlib.lines.Line2D at 0x2e0d2f698b0>]"
      ]
     },
     "execution_count": 25,
     "metadata": {},
     "output_type": "execute_result"
    },
    {
     "data": {
      "image/png": "[encoded data removed]",
      "text/plain": [
       "<Figure size 432x288 with 1 Axes>"
      ]
     },
     "metadata": {
      "needs_background": "light"
     },
     "output_type": "display_data"
    }
   ],
   "source": [
    "plt.plot(x)"
   ]
  },
  {
   "cell_type": "raw",
   "metadata": {},
   "source": [
    "\n",
    "\n"
   ]
  },
  {
   "cell_type": "code",
   "execution_count": 27,
   "metadata": {},
   "outputs": [],
   "source": [
    "y = x - 4*(x**2) + 0.4*(x**3) + np.random.normal(-2,2,30)"
   ]
  },
  {
   "cell_type": "code",
   "execution_count": 28,
   "metadata": {},
   "outputs": [
    {
     "data": {
      "text/plain": [
       "array([-4.10111729e+00, -4.56147338e+01, -2.84503718e+01,  2.51445055e+03,\n",
       "        2.75368460e+02, -1.68742353e+01, -2.92712058e+00,  1.95926494e+02,\n",
       "       -1.73419517e+01, -2.83733873e+01, -3.39106279e+01, -1.14282783e+01,\n",
       "        9.06512498e+01,  1.20353836e+02,  4.57754817e+02, -3.84459951e+01,\n",
       "       -5.35814309e+01, -1.52404854e+02, -9.32401584e+00, -2.34007046e+01,\n",
       "       -5.19813969e+01,  5.90396893e+03, -2.10028936e+01, -6.44303753e+01,\n",
       "       -4.70969917e+01, -5.11437154e+01, -5.48978867e+01, -1.46531216e+02,\n",
       "       -5.08319262e+01,  1.77115511e+03])"
      ]
     },
     "execution_count": 28,
     "metadata": {},
     "output_type": "execute_result"
    }
   ],
   "source": [
    "y"
   ]
  },
  {
   "cell_type": "code",
   "execution_count": 29,
   "metadata": {},
   "outputs": [
    {
     "data": {
      "text/plain": [
       "[<matplotlib.lines.Line2D at 0x2e0d2e09040>]"
      ]
     },
     "execution_count": 29,
     "metadata": {},
     "output_type": "execute_result"
    },
    {
     "data": {
      "image/png": "[encoded data removed]",
      "text/plain": [
       "<Figure size 432x288 with 1 Axes>"
      ]
     },
     "metadata": {
      "needs_background": "light"
     },
     "output_type": "display_data"
    }
   ],
   "source": [
    "plt.plot(y)"
   ]
  },
  {
   "cell_type": "code",
   "execution_count": 30,
   "metadata": {},
   "outputs": [
    {
     "data": {
      "text/plain": [
       "30"
      ]
     },
     "execution_count": 30,
     "metadata": {},
     "output_type": "execute_result"
    }
   ],
   "source": [
    "len(x)"
   ]
  },
  {
   "cell_type": "code",
   "execution_count": 31,
   "metadata": {},
   "outputs": [
    {
     "data": {
      "text/plain": [
       "30"
      ]
     },
     "execution_count": 31,
     "metadata": {},
     "output_type": "execute_result"
    }
   ],
   "source": [
    "len(y)"
   ]
  },
  {
   "cell_type": "code",
   "execution_count": 33,
   "metadata": {},
   "outputs": [
    {
     "data": {
      "image/png": "[encoded data removed]",
      "text/plain": [
       "<Figure size 432x288 with 1 Axes>"
      ]
     },
     "metadata": {
      "needs_background": "light"
     },
     "output_type": "display_data"
    }
   ],
   "source": [
    "plt.scatter(x,y,c='r',s=10)\n",
    "plt.grid()"
   ]
  },
  {
   "cell_type": "code",
   "execution_count": 34,
   "metadata": {},
   "outputs": [
    {
     "data": {
      "text/plain": [
       "<matplotlib.axes._subplots.AxesSubplot at 0x2e0d33bc4f0>"
      ]
     },
     "execution_count": 34,
     "metadata": {},
     "output_type": "execute_result"
    },
    {
     "data": {
      "image/png": "[encoded data removed]",
      "text/plain": [
       "<Figure size 432x288 with 1 Axes>"
      ]
     },
     "metadata": {
      "needs_background": "light"
     },
     "output_type": "display_data"
    }
   ],
   "source": [
    "sns.regplot(x=x,y=y)"
   ]
  },
  {
   "cell_type": "code",
   "execution_count": 35,
   "metadata": {},
   "outputs": [
    {
     "data": {
      "text/plain": [
       "array([-0.18725179,  4.62894485,  3.49724439, 22.40283334, 13.59382811,\n",
       "        2.08212597, -0.57628545, 12.84936729,  2.47832212,  3.15509872,\n",
       "        3.73577293,  9.45387617, 11.54411754, 11.89657554, 14.95651863,\n",
       "        4.27999381,  6.3093636 , -4.97342787, -1.35776076,  3.15542102,\n",
       "        7.18052271, 28.32791952, -1.84092581, -3.32944746,  7.70337136,\n",
       "        6.91021498,  6.7631216 , -4.89330507,  5.09855153, 20.46864106])"
      ]
     },
     "execution_count": 35,
     "metadata": {},
     "output_type": "execute_result"
    }
   ],
   "source": [
    "x"
   ]
  },
  {
   "cell_type": "code",
   "execution_count": 37,
   "metadata": {},
   "outputs": [],
   "source": [
    "X = pd.DataFrame(x)"
   ]
  },
  {
   "cell_type": "code",
   "execution_count": 38,
   "metadata": {},
   "outputs": [],
   "source": [
    "xtrain, xtest, ytrain, ytest = train_test_split(X,y, test_size=0.25, random_state=101)"
   ]
  },
  {
   "cell_type": "code",
   "execution_count": 39,
   "metadata": {},
   "outputs": [],
   "source": [
    "model = LinearRegression().fit(xtrain,ytrain)"
   ]
  },
  {
   "cell_type": "code",
   "execution_count": 40,
   "metadata": {},
   "outputs": [
    {
     "data": {
      "text/plain": [
       "-46.667877672424616"
      ]
     },
     "execution_count": 40,
     "metadata": {},
     "output_type": "execute_result"
    }
   ],
   "source": [
    "model.score(xtest,ytest)"
   ]
  },
  {
   "cell_type": "code",
   "execution_count": 51,
   "metadata": {},
   "outputs": [
    {
     "data": {
      "text/plain": [
       "56.953417182216114"
      ]
     },
     "execution_count": 51,
     "metadata": {},
     "output_type": "execute_result"
    }
   ],
   "source": [
    "model = LinearRegression().fit(X,y)\n",
    "100*model.score(X,y)"
   ]
  },
  {
   "cell_type": "code",
   "execution_count": 41,
   "metadata": {},
   "outputs": [],
   "source": [
    "# so we'll use polynomial feature extractor"
   ]
  },
  {
   "cell_type": "code",
   "execution_count": 44,
   "metadata": {},
   "outputs": [
    {
     "data": {
      "text/html": [
       "<div>\n",
       "<style scoped>\n",
       "    .dataframe tbody tr th:only-of-type {\n",
       "        vertical-align: middle;\n",
       "    }\n",
       "\n",
       "    .dataframe tbody tr th {\n",
       "        vertical-align: top;\n",
       "    }\n",
       "\n",
       "    .dataframe thead th {\n",
       "        text-align: right;\n",
       "    }\n",
       "</style>\n",
       "<table border=\"1\" class=\"dataframe\">\n",
       "  <thead>\n",
       "    <tr style=\"text-align: right;\">\n",
       "      <th></th>\n",
       "      <th>0</th>\n",
       "    </tr>\n",
       "  </thead>\n",
       "  <tbody>\n",
       "    <tr>\n",
       "      <th>0</th>\n",
       "      <td>-0.187252</td>\n",
       "    </tr>\n",
       "    <tr>\n",
       "      <th>1</th>\n",
       "      <td>4.628945</td>\n",
       "    </tr>\n",
       "    <tr>\n",
       "      <th>2</th>\n",
       "      <td>3.497244</td>\n",
       "    </tr>\n",
       "    <tr>\n",
       "      <th>3</th>\n",
       "      <td>22.402833</td>\n",
       "    </tr>\n",
       "    <tr>\n",
       "      <th>4</th>\n",
       "      <td>13.593828</td>\n",
       "    </tr>\n",
       "  </tbody>\n",
       "</table>\n",
       "</div>"
      ],
      "text/plain": [
       "           0\n",
       "0  -0.187252\n",
       "1   4.628945\n",
       "2   3.497244\n",
       "3  22.402833\n",
       "4  13.593828"
      ]
     },
     "execution_count": 44,
     "metadata": {},
     "output_type": "execute_result"
    }
   ],
   "source": [
    "X.head()"
   ]
  },
  {
   "cell_type": "code",
   "execution_count": 42,
   "metadata": {},
   "outputs": [],
   "source": [
    "from sklearn.preprocessing import PolynomialFeatures"
   ]
  },
  {
   "cell_type": "code",
   "execution_count": 43,
   "metadata": {},
   "outputs": [
    {
     "data": {
      "text/plain": [
       "array([[ 1.00000000e+00, -1.87251788e-01,  3.50632322e-02],\n",
       "       [ 1.00000000e+00,  4.62894485e+00,  2.14271304e+01],\n",
       "       [ 1.00000000e+00,  3.49724439e+00,  1.22307183e+01],\n",
       "       [ 1.00000000e+00,  2.24028333e+01,  5.01886942e+02],\n",
       "       [ 1.00000000e+00,  1.35938281e+01,  1.84792163e+02],\n",
       "       [ 1.00000000e+00,  2.08212597e+00,  4.33524857e+00],\n",
       "       [ 1.00000000e+00, -5.76285449e-01,  3.32104919e-01],\n",
       "       [ 1.00000000e+00,  1.28493673e+01,  1.65106240e+02],\n",
       "       [ 1.00000000e+00,  2.47832212e+00,  6.14208053e+00],\n",
       "       [ 1.00000000e+00,  3.15509872e+00,  9.95464792e+00],\n",
       "       [ 1.00000000e+00,  3.73577293e+00,  1.39559994e+01],\n",
       "       [ 1.00000000e+00,  9.45387617e+00,  8.93757747e+01],\n",
       "       [ 1.00000000e+00,  1.15441175e+01,  1.33266650e+02],\n",
       "       [ 1.00000000e+00,  1.18965755e+01,  1.41528510e+02],\n",
       "       [ 1.00000000e+00,  1.49565186e+01,  2.23697450e+02],\n",
       "       [ 1.00000000e+00,  4.27999381e+00,  1.83183470e+01],\n",
       "       [ 1.00000000e+00,  6.30936360e+00,  3.98080691e+01],\n",
       "       [ 1.00000000e+00, -4.97342787e+00,  2.47349848e+01],\n",
       "       [ 1.00000000e+00, -1.35776076e+00,  1.84351427e+00],\n",
       "       [ 1.00000000e+00,  3.15542102e+00,  9.95668182e+00],\n",
       "       [ 1.00000000e+00,  7.18052271e+00,  5.15599064e+01],\n",
       "       [ 1.00000000e+00,  2.83279195e+01,  8.02471025e+02],\n",
       "       [ 1.00000000e+00, -1.84092581e+00,  3.38900786e+00],\n",
       "       [ 1.00000000e+00, -3.32944746e+00,  1.10852204e+01],\n",
       "       [ 1.00000000e+00,  7.70337136e+00,  5.93419304e+01],\n",
       "       [ 1.00000000e+00,  6.91021498e+00,  4.77510711e+01],\n",
       "       [ 1.00000000e+00,  6.76312160e+00,  4.57398138e+01],\n",
       "       [ 1.00000000e+00, -4.89330507e+00,  2.39444346e+01],\n",
       "       [ 1.00000000e+00,  5.09855153e+00,  2.59952277e+01],\n",
       "       [ 1.00000000e+00,  2.04686411e+01,  4.18965267e+02]])"
      ]
     },
     "execution_count": 43,
     "metadata": {},
     "output_type": "execute_result"
    }
   ],
   "source": [
    "x_poly = PolynomialFeatures().fit_transform(X)\n",
    "x_poly"
   ]
  },
  {
   "cell_type": "code",
   "execution_count": 45,
   "metadata": {},
   "outputs": [
    {
     "data": {
      "text/plain": [
       "array([[ 1.00000000e+00, -1.87251788e-01,  3.50632322e-02,\n",
       "        -6.56565294e-03],\n",
       "       [ 1.00000000e+00,  4.62894485e+00,  2.14271304e+01,\n",
       "         9.91850048e+01],\n",
       "       [ 1.00000000e+00,  3.49724439e+00,  1.22307183e+01,\n",
       "         4.27738110e+01],\n",
       "       [ 1.00000000e+00,  2.24028333e+01,  5.01886942e+02,\n",
       "         1.12436895e+04],\n",
       "       [ 1.00000000e+00,  1.35938281e+01,  1.84792163e+02,\n",
       "         2.51203290e+03],\n",
       "       [ 1.00000000e+00,  2.08212597e+00,  4.33524857e+00,\n",
       "         9.02653366e+00],\n",
       "       [ 1.00000000e+00, -5.76285449e-01,  3.32104919e-01,\n",
       "        -1.91387232e-01],\n",
       "       [ 1.00000000e+00,  1.28493673e+01,  1.65106240e+02,\n",
       "         2.12151072e+03],\n",
       "       [ 1.00000000e+00,  2.47832212e+00,  6.14208053e+00,\n",
       "         1.52220540e+01],\n",
       "       [ 1.00000000e+00,  3.15509872e+00,  9.95464792e+00,\n",
       "         3.14078969e+01],\n",
       "       [ 1.00000000e+00,  3.73577293e+00,  1.39559994e+01,\n",
       "         5.21364447e+01],\n",
       "       [ 1.00000000e+00,  9.45387617e+00,  8.93757747e+01,\n",
       "         8.44947507e+02],\n",
       "       [ 1.00000000e+00,  1.15441175e+01,  1.33266650e+02,\n",
       "         1.53844587e+03],\n",
       "       [ 1.00000000e+00,  1.18965755e+01,  1.41528510e+02,\n",
       "         1.68370460e+03],\n",
       "       [ 1.00000000e+00,  1.49565186e+01,  2.23697450e+02,\n",
       "         3.34573507e+03],\n",
       "       [ 1.00000000e+00,  4.27999381e+00,  1.83183470e+01,\n",
       "         7.84024120e+01],\n",
       "       [ 1.00000000e+00,  6.30936360e+00,  3.98080691e+01,\n",
       "         2.51163582e+02],\n",
       "       [ 1.00000000e+00, -4.97342787e+00,  2.47349848e+01,\n",
       "        -1.23017663e+02],\n",
       "       [ 1.00000000e+00, -1.35776076e+00,  1.84351427e+00,\n",
       "        -2.50305134e+00],\n",
       "       [ 1.00000000e+00,  3.15542102e+00,  9.95668182e+00,\n",
       "         3.14175231e+01],\n",
       "       [ 1.00000000e+00,  7.18052271e+00,  5.15599064e+01,\n",
       "         3.70227079e+02],\n",
       "       [ 1.00000000e+00,  2.83279195e+01,  8.02471025e+02,\n",
       "         2.27323346e+04],\n",
       "       [ 1.00000000e+00, -1.84092581e+00,  3.38900786e+00,\n",
       "        -6.23891205e+00],\n",
       "       [ 1.00000000e+00, -3.32944746e+00,  1.10852204e+01,\n",
       "        -3.69076588e+01],\n",
       "       [ 1.00000000e+00,  7.70337136e+00,  5.93419304e+01,\n",
       "         4.57132927e+02],\n",
       "       [ 1.00000000e+00,  6.91021498e+00,  4.77510711e+01,\n",
       "         3.29970166e+02],\n",
       "       [ 1.00000000e+00,  6.76312160e+00,  4.57398138e+01,\n",
       "         3.09343922e+02],\n",
       "       [ 1.00000000e+00, -4.89330507e+00,  2.39444346e+01,\n",
       "        -1.17167423e+02],\n",
       "       [ 1.00000000e+00,  5.09855153e+00,  2.59952277e+01,\n",
       "         1.32538008e+02],\n",
       "       [ 1.00000000e+00,  2.04686411e+01,  4.18965267e+02,\n",
       "         8.57564966e+03]])"
      ]
     },
     "execution_count": 45,
     "metadata": {},
     "output_type": "execute_result"
    }
   ],
   "source": [
    "x_poly3 = PolynomialFeatures(degree=3).fit_transform(X)\n",
    "x_poly3"
   ]
  },
  {
   "cell_type": "code",
   "execution_count": 46,
   "metadata": {},
   "outputs": [],
   "source": [
    "xtrain2, xtest2, ytrain2, ytest2 = train_test_split(x_poly, y, test_size=0.25, random_state=101)"
   ]
  },
  {
   "cell_type": "code",
   "execution_count": 47,
   "metadata": {},
   "outputs": [],
   "source": [
    "model2 = LinearRegression().fit(xtrain2, ytrain2)"
   ]
  },
  {
   "cell_type": "code",
   "execution_count": 48,
   "metadata": {},
   "outputs": [
    {
     "data": {
      "text/plain": [
       "-7.827919924117827"
      ]
     },
     "execution_count": 48,
     "metadata": {},
     "output_type": "execute_result"
    }
   ],
   "source": [
    "model2.score(xtest2, ytest2)"
   ]
  },
  {
   "cell_type": "code",
   "execution_count": 52,
   "metadata": {},
   "outputs": [
    {
     "data": {
      "text/plain": [
       "93.76099344079203"
      ]
     },
     "execution_count": 52,
     "metadata": {},
     "output_type": "execute_result"
    }
   ],
   "source": [
    "model2 = LinearRegression().fit(x_poly, y)\n",
    "100*model2.score(x_poly, y)"
   ]
  },
  {
   "cell_type": "code",
   "execution_count": 53,
   "metadata": {},
   "outputs": [
    {
     "data": {
      "text/plain": [
       "99.99969806126214"
      ]
     },
     "execution_count": 53,
     "metadata": {},
     "output_type": "execute_result"
    }
   ],
   "source": [
    "model3 = LinearRegression().fit(x_poly3, y)\n",
    "100*model3.score(x_poly3, y)"
   ]
  },
  {
   "cell_type": "code",
   "execution_count": 54,
   "metadata": {},
   "outputs": [],
   "source": [
    "ypred = model3.predict(x_poly3)"
   ]
  },
  {
   "cell_type": "code",
   "execution_count": 55,
   "metadata": {},
   "outputs": [
    {
     "data": {
      "text/plain": [
       "<matplotlib.collections.PathCollection at 0x2e0d41eb070>"
      ]
     },
     "execution_count": 55,
     "metadata": {},
     "output_type": "execute_result"
    },
    {
     "data": {
      "image/png": "[encoded data removed]",
      "text/plain": [
       "<Figure size 432x288 with 1 Axes>"
      ]
     },
     "metadata": {
      "needs_background": "light"
     },
     "output_type": "display_data"
    }
   ],
   "source": [
    "plt.scatter(y,ypred)"
   ]
  },
  {
   "cell_type": "code",
   "execution_count": null,
   "metadata": {},
   "outputs": [],
   "source": []
  }
 ],
 "metadata": {
  "kernelspec": {
   "display_name": "Python 3",
   "language": "python",
   "name": "python3"
  },
  "language_info": {
   "codemirror_mode": {
    "name": "ipython",
    "version": 3
   },
   "file_extension": ".py",
   "mimetype": "text/x-python",
   "name": "python",
   "nbconvert_exporter": "python",
   "pygments_lexer": "ipython3",
   "version": "3.8.3"
  }
 },
 "nbformat": 4,
 "nbformat_minor": 4
}
